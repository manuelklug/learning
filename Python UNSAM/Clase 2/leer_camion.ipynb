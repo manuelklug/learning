{
 "cells": [
  {
   "cell_type": "code",
   "execution_count": 7,
   "metadata": {},
   "outputs": [
    {
     "name": "stdout",
     "output_type": "stream",
     "text": [
      "[('Lima', 100, 32.2), ('Naranja', 50, 91.1), ('Caqui', 150, 103.44), ('Mandarina', 200, 51.23), ('Durazno', 95, 40.37), ('Mandarina', 50, 65.1), ('Naranja', 100, 70.44)]\n"
     ]
    }
   ],
   "source": [
    "import csv\n",
    "\n",
    "def leer_camion(nombre_archivo):\n",
    "    camion = []\n",
    "\n",
    "    with open(nombre_archivo) as file:\n",
    "        rows = csv.reader(file)\n",
    "        headers = next(rows)\n",
    "\n",
    "        for row in rows:\n",
    "            lote = (row[0], int(row[1]), float(row[2]))\n",
    "            camion.append(lote)\n",
    "\n",
    "    return camion\n",
    "\n",
    "camion = leer_camion('Data/camion.csv')\n",
    "print(camion)"
   ]
  }
 ],
 "metadata": {
  "kernelspec": {
   "display_name": "Python 3",
   "language": "python",
   "name": "python3"
  },
  "language_info": {
   "codemirror_mode": {
    "name": "ipython",
    "version": 3
   },
   "file_extension": ".py",
   "mimetype": "text/x-python",
   "name": "python",
   "nbconvert_exporter": "python",
   "pygments_lexer": "ipython3",
   "version": "3.7.4"
  }
 },
 "nbformat": 4,
 "nbformat_minor": 2
}
