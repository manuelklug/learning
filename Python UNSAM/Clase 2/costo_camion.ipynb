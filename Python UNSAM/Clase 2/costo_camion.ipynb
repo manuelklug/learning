{
 "cells": [
  {
   "cell_type": "code",
   "execution_count": 1,
   "metadata": {},
   "outputs": [
    {
     "name": "stdout",
     "output_type": "stream",
     "text": [
      "Total cost: 47671.15\n"
     ]
    }
   ],
   "source": [
    "import csv\n",
    "\n",
    "def costo_camion(nombre_archivo):\n",
    "    costo = 0\n",
    "    \n",
    "    with open(nombre_archivo) as file:\n",
    "        rows = csv.reader(file)\n",
    "        header = next(rows)\n",
    "        \n",
    "        for row in rows:\n",
    "            costo += int(row[1]) * float(row[2])\n",
    "    \n",
    "    return costo\n",
    "\n",
    "cost = costo_camion('Data/camion.csv')\n",
    "print('Total cost:', cost)"
   ]
  }
 ],
 "metadata": {
  "kernelspec": {
   "display_name": "Python 3",
   "language": "python",
   "name": "python3"
  },
  "language_info": {
   "codemirror_mode": {
    "name": "ipython",
    "version": 3
   },
   "file_extension": ".py",
   "mimetype": "text/x-python",
   "name": "python",
   "nbconvert_exporter": "python",
   "pygments_lexer": "ipython3",
   "version": "3.7.4"
  }
 },
 "nbformat": 4,
 "nbformat_minor": 2
}
