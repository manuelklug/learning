{
 "cells": [
  {
   "cell_type": "code",
   "execution_count": 1,
   "metadata": {},
   "outputs": [],
   "source": [
    "import csv"
   ]
  },
  {
   "cell_type": "code",
   "execution_count": 8,
   "metadata": {},
   "outputs": [],
   "source": [
    "def costo_camion(nombre_archivo):\n",
    "    costo_total = 0\n",
    "    \n",
    "    with open(nombre_archivo) as file:\n",
    "        filas = csv.reader(file)\n",
    "        encabezado = next(filas)\n",
    "    \n",
    "        for n_fila, fila in enumerate(filas, start=1):\n",
    "            record = dict(zip(encabezado, fila))\n",
    "\n",
    "            try:\n",
    "                ncajones = int(record['cajones'])\n",
    "                precio = float(record['precio'])\n",
    "                costo_total += ncajones * precio\n",
    "\n",
    "            except ValueError:\n",
    "                print(f'Fila {n_fila}: No pude interpretar: {fila}')\n",
    "    \n",
    "    return costo_total"
   ]
  },
  {
   "cell_type": "code",
   "execution_count": 9,
   "metadata": {},
   "outputs": [
    {
     "data": {
      "text/plain": [
       "47671.15"
      ]
     },
     "execution_count": 9,
     "metadata": {},
     "output_type": "execute_result"
    }
   ],
   "source": [
    "costo_camion('Data/camion.csv')"
   ]
  },
  {
   "cell_type": "code",
   "execution_count": 10,
   "metadata": {},
   "outputs": [
    {
     "data": {
      "text/plain": [
       "47671.15"
      ]
     },
     "execution_count": 10,
     "metadata": {},
     "output_type": "execute_result"
    }
   ],
   "source": [
    "costo_camion('Data/fecha_camion.csv')"
   ]
  }
 ],
 "metadata": {
  "kernelspec": {
   "display_name": "Python 3",
   "language": "python",
   "name": "python3"
  },
  "language_info": {
   "codemirror_mode": {
    "name": "ipython",
    "version": 3
   },
   "file_extension": ".py",
   "mimetype": "text/x-python",
   "name": "python",
   "nbconvert_exporter": "python",
   "pygments_lexer": "ipython3",
   "version": "3.7.4"
  }
 },
 "nbformat": 4,
 "nbformat_minor": 2
}
