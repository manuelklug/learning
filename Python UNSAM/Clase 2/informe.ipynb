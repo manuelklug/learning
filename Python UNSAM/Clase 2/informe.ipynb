{
 "cells": [
  {
   "cell_type": "code",
   "execution_count": 1,
   "metadata": {},
   "outputs": [],
   "source": [
    "import csv"
   ]
  },
  {
   "cell_type": "code",
   "execution_count": 14,
   "metadata": {},
   "outputs": [],
   "source": [
    "def leer_precios(nombre_archivo):\n",
    "    precios = {}\n",
    "\n",
    "    with open(nombre_archivo) as file:\n",
    "        rows = csv.reader(file)\n",
    "        \n",
    "        for row in rows:\n",
    "            try:\n",
    "                fruta = row[0]\n",
    "                precio = float(row[1])\n",
    "                precios[fruta] = precio\n",
    "            except:\n",
    "                pass\n",
    "\n",
    "    return precios\n",
    "\n",
    "def leer_camion(nombre_archivo):\n",
    "    camion = []\n",
    "\n",
    "    with open(nombre_archivo) as file:\n",
    "        rows = csv.reader(file)\n",
    "        headers = next(rows)\n",
    "\n",
    "        for row in rows:\n",
    "            lote = (row[0], int(row[1]), float(row[2]))\n",
    "            camion.append(lote)\n",
    "\n",
    "    return camion"
   ]
  },
  {
   "cell_type": "code",
   "execution_count": 15,
   "metadata": {},
   "outputs": [],
   "source": [
    "camion = leer_camion('Data/camion.csv')\n",
    "precios = leer_precios('Data/precios.csv')"
   ]
  },
  {
   "cell_type": "code",
   "execution_count": 5,
   "metadata": {},
   "outputs": [
    {
     "name": "stdout",
     "output_type": "stream",
     "text": [
      "[('Lima', 100, 32.2), ('Naranja', 50, 91.1), ('Caqui', 150, 103.44), ('Mandarina', 200, 51.23), ('Durazno', 95, 40.37), ('Mandarina', 50, 65.1), ('Naranja', 100, 70.44)]\n"
     ]
    }
   ],
   "source": [
    "print(camion)"
   ]
  },
  {
   "cell_type": "code",
   "execution_count": 16,
   "metadata": {
    "scrolled": true
   },
   "outputs": [
    {
     "name": "stdout",
     "output_type": "stream",
     "text": [
      "{'Lima': 40.22, 'Uva': 24.85, 'Ciruela': 44.85, 'Cereza': 11.27, 'Frutilla': 53.72, 'Caqui': 105.46, 'Tomate': 66.67, 'Berenjena': 28.47, 'Lechuga': 24.22, 'Durazno': 73.48, 'Remolacha': 20.75, 'Habas': 23.16, 'Frambuesa': 34.35, 'Naranja': 106.28, 'Bruselas': 15.72, 'Batata': 55.16, 'RÃºcula': 36.9, 'Radicheta': 26.11, 'Repollo': 49.16, 'Cebolla': 58.99, 'CebollÃ\\xadn': 57.1, 'Puerro': 27.58, 'Mandarina': 80.89, 'Ajo': 15.19, 'Rabanito': 51.94, 'Zapallo': 24.79, 'Espinaca': 52.61, 'Acelga': 29.26, 'Zanahoria': 49.74, 'Papa': 69.35}\n"
     ]
    }
   ],
   "source": [
    "print(precios)"
   ]
  },
  {
   "cell_type": "code",
   "execution_count": 17,
   "metadata": {},
   "outputs": [
    {
     "name": "stdout",
     "output_type": "stream",
     "text": [
      "El costo total fue de $47671.15, las ventas fueron $62986.1, por lo tanto, el resultado neto fue de $15314.95\n"
     ]
    }
   ],
   "source": [
    "costo_total = 0\n",
    "ventas = 0\n",
    "\n",
    "for dato in camion:\n",
    "    fruta = dato[0]\n",
    "    cajones = dato[1]\n",
    "    costo = dato[2]\n",
    "    \n",
    "    if fruta in precios:\n",
    "        costo_total += cajones * costo\n",
    "        ventas += precios[fruta] * cajones\n",
    "\n",
    "print(f'El costo total fue de ${costo_total}, las ventas fueron ${ventas}, por lo tanto, el resultado neto fue de ${round(ventas-costo_total, 2)}')"
   ]
  },
  {
   "cell_type": "code",
   "execution_count": null,
   "metadata": {},
   "outputs": [],
   "source": []
  }
 ],
 "metadata": {
  "kernelspec": {
   "display_name": "Python 3",
   "language": "python",
   "name": "python3"
  },
  "language_info": {
   "codemirror_mode": {
    "name": "ipython",
    "version": 3
   },
   "file_extension": ".py",
   "mimetype": "text/x-python",
   "name": "python",
   "nbconvert_exporter": "python",
   "pygments_lexer": "ipython3",
   "version": "3.7.4"
  }
 },
 "nbformat": 4,
 "nbformat_minor": 2
}
