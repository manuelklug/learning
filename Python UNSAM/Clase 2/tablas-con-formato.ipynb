{
 "cells": [
  {
   "cell_type": "markdown",
   "metadata": {},
   "source": [
    "### Ejercicio 2.33"
   ]
  },
  {
   "cell_type": "code",
   "execution_count": 15,
   "metadata": {},
   "outputs": [],
   "source": [
    "import csv\n",
    "\n",
    "# Funcion leer_camion\n",
    "\n",
    "def leer_camion(nombre_archivo):\n",
    "    camion = []\n",
    "\n",
    "    with open(nombre_archivo) as file:\n",
    "        rows = csv.reader(file)\n",
    "        headers = next(rows)\n",
    "\n",
    "        for row in rows:\n",
    "            record = dict(zip(headers, row))\n",
    "\n",
    "            cajon = {\n",
    "            'nombre': record['nombre'],\n",
    "            'cajones': int(record['cajones']),\n",
    "            'precio': float(record['precio'])\n",
    "            }\n",
    "\n",
    "            camion.append(cajon)\n",
    "\n",
    "    return camion\n",
    "\n",
    "# Funcion leer precios\n",
    "\n",
    "def leer_precios(nombre_archivo):\n",
    "    precios = {}\n",
    "\n",
    "    with open(nombre_archivo) as file:\n",
    "        rows = csv.reader(file)\n",
    "        \n",
    "        for row in rows:\n",
    "            try:\n",
    "                fruta = row[0]\n",
    "                precio = float(row[1])\n",
    "                precios[fruta] = precio\n",
    "            except:\n",
    "                print(\"Una fila no pudo ser leída\")\n",
    "\n",
    "    return precios"
   ]
  },
  {
   "cell_type": "code",
   "execution_count": 28,
   "metadata": {},
   "outputs": [],
   "source": [
    "# Hacer informe\n",
    "\n",
    "def hacer_informe(cajones, precios):\n",
    "    lista = []\n",
    "    \n",
    "    for dic in cajones:\n",
    "        nombre = dic['nombre']\n",
    "        cajones = dic['cajones']\n",
    "        precio = dic['precio']\n",
    "        cambio = precios[nombre] - dic['precio']\n",
    "        \n",
    "        tupla = (nombre, cajones, precio, cambio)\n",
    "        \n",
    "        lista.append(tupla)\n",
    "    \n",
    "    return lista"
   ]
  },
  {
   "cell_type": "code",
   "execution_count": 30,
   "metadata": {},
   "outputs": [
    {
     "name": "stdout",
     "output_type": "stream",
     "text": [
      "Una fila no pudo ser leída\n"
     ]
    }
   ],
   "source": [
    "camion = leer_camion('Data/camion.csv')\n",
    "precios = leer_precios('Data/precios.csv')\n",
    "informe = hacer_informe(camion, precios)"
   ]
  },
  {
   "cell_type": "code",
   "execution_count": 84,
   "metadata": {},
   "outputs": [
    {
     "name": "stdout",
     "output_type": "stream",
     "text": [
      "    Nombre    Cajones     Precio     Cambio \n",
      "---------- ---------- ---------- ---------- \n",
      "      Lima        100      32.20       8.02\n",
      "   Naranja         50      91.10      15.18\n",
      "     Caqui        150     103.44       2.02\n",
      " Mandarina        200      51.23      29.66\n",
      "   Durazno         95      40.37      33.11\n",
      " Mandarina         50      65.10      15.79\n",
      "   Naranja        100      70.44      35.84\n"
     ]
    }
   ],
   "source": [
    "headers = ('Nombre', 'Cajones', 'Precio', 'Cambio')\n",
    "\n",
    "header_espaciado = ''\n",
    "\n",
    "for valor in headers:\n",
    "    header_espaciado += f'{valor:>10s} '\n",
    "    \n",
    "separacion = ''\n",
    "    \n",
    "for x in range(len(headers)):\n",
    "    separacion += '---------- '\n",
    "\n",
    "print(header_espaciado)\n",
    "print(separacion)\n",
    "\n",
    "for nombre, cajones, precio, cambio in informe:\n",
    "    print(f'{nombre:>10s} {cajones:>10d} {precio:>10.2f} {cambio:>10.2f}')"
   ]
  }
 ],
 "metadata": {
  "kernelspec": {
   "display_name": "Python 3",
   "language": "python",
   "name": "python3"
  },
  "language_info": {
   "codemirror_mode": {
    "name": "ipython",
    "version": 3
   },
   "file_extension": ".py",
   "mimetype": "text/x-python",
   "name": "python",
   "nbconvert_exporter": "python",
   "pygments_lexer": "ipython3",
   "version": "3.7.4"
  }
 },
 "nbformat": 4,
 "nbformat_minor": 2
}
