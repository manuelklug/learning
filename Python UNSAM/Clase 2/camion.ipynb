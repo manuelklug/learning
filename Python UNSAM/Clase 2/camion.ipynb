{
 "cells": [
  {
   "cell_type": "code",
   "execution_count": 33,
   "metadata": {
    "scrolled": true
   },
   "outputs": [
    {
     "name": "stdout",
     "output_type": "stream",
     "text": [
      "Costo total: 47671.15\n"
     ]
    }
   ],
   "source": [
    "with open('data/camion.csv', 'rt') as file:\n",
    "    headers = next(file)\n",
    "    \n",
    "    total = 0\n",
    "    \n",
    "    for row in file:\n",
    "        sin_comas = row.rstrip('\\n').split(',')\n",
    "        total += float(sin_comas[1]) * float(sin_comas[2])\n",
    "    \n",
    "    print(\"Costo total:\", total)"
   ]
  }
 ],
 "metadata": {
  "kernelspec": {
   "display_name": "Python 3",
   "language": "python",
   "name": "python3"
  },
  "language_info": {
   "codemirror_mode": {
    "name": "ipython",
    "version": 3
   },
   "file_extension": ".py",
   "mimetype": "text/x-python",
   "name": "python",
   "nbconvert_exporter": "python",
   "pygments_lexer": "ipython3",
   "version": "3.7.4"
  }
 },
 "nbformat": 4,
 "nbformat_minor": 2
}
