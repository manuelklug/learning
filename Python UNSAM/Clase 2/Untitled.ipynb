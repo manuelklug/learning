{
 "cells": [
  {
   "cell_type": "code",
   "execution_count": 1,
   "metadata": {},
   "outputs": [
    {
     "name": "stdout",
     "output_type": "stream",
     "text": [
      "Costo total: $47671.15\n",
      "Ventas: $62986.1\n",
      "Resultado neto: $15314.95\n"
     ]
    }
   ],
   "source": [
    "import csv\n",
    "\n",
    "# Funcion leer_camion\n",
    "\n",
    "def leer_camion(nombre_archivo):\n",
    "    camion = []\n",
    "\n",
    "    with open(nombre_archivo) as file:\n",
    "        rows = csv.reader(file)\n",
    "        headers = next(rows)\n",
    "\n",
    "        for row in rows:\n",
    "            record = dict(zip(headers, row))\n",
    "\n",
    "            cajon = {\n",
    "            'nombre': record['nombre'],\n",
    "            'cajones': int(record['cajones']),\n",
    "            'precio': float(record['precio'])\n",
    "            }\n",
    "\n",
    "            camion.append(cajon)\n",
    "\n",
    "    return camion\n",
    "\n",
    "# Funcion leer precios\n",
    "\n",
    "def leer_precios(nombre_archivo):\n",
    "    precios = {}\n",
    "\n",
    "    with open(nombre_archivo) as file:\n",
    "        rows = csv.reader(file)\n",
    "        \n",
    "        for row in rows:\n",
    "            try:\n",
    "                fruta = row[0]\n",
    "                precio = float(row[1])\n",
    "                precios[fruta] = precio\n",
    "            except:\n",
    "                pass\n",
    "\n",
    "    return precios\n",
    "\n",
    "# Informe\n",
    "\n",
    "camion = leer_camion('Data/camion.csv')\n",
    "precios = leer_precios('Data/precios.csv')\n",
    "\n",
    "costo_total = 0\n",
    "ventas = 0\n",
    "\n",
    "for cajon in camion:\n",
    "    fruta = cajon['nombre']\n",
    "    cajones = cajon['cajones']\n",
    "    costo = cajon['precio']\n",
    "    \n",
    "    if fruta in precios:\n",
    "        costo_total += cajones * costo\n",
    "        ventas += precios[fruta] * cajones\n",
    "\n",
    "resultado_neto = round(ventas - costo_total, 2)\n",
    "\n",
    "print(f'Costo total: ${costo_total}')\n",
    "print(f'Ventas: ${ventas}')\n",
    "print(f'Resultado neto: ${resultado_neto}')"
   ]
  },
  {
   "cell_type": "code",
   "execution_count": null,
   "metadata": {},
   "outputs": [],
   "source": []
  }
 ],
 "metadata": {
  "kernelspec": {
   "display_name": "Python 3",
   "language": "python",
   "name": "python3"
  },
  "language_info": {
   "codemirror_mode": {
    "name": "ipython",
    "version": 3
   },
   "file_extension": ".py",
   "mimetype": "text/x-python",
   "name": "python",
   "nbconvert_exporter": "python",
   "pygments_lexer": "ipython3",
   "version": "3.7.4"
  }
 },
 "nbformat": 4,
 "nbformat_minor": 2
}
