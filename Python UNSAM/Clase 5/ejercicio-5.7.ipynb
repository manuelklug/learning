{
 "cells": [
  {
   "cell_type": "code",
   "execution_count": 1,
   "metadata": {},
   "outputs": [],
   "source": [
    "import fileparse"
   ]
  },
  {
   "cell_type": "code",
   "execution_count": 2,
   "metadata": {},
   "outputs": [
    {
     "name": "stdout",
     "output_type": "stream",
     "text": [
      "Help on module fileparse:\n",
      "\n",
      "NAME\n",
      "    fileparse - # fileparse.py\n",
      "\n",
      "FUNCTIONS\n",
      "    parse_csv(nombre_archivo, select=None, types=None, has_headers=False)\n",
      "        Parsea un archivo CSV en una lista de registros.\n",
      "        Se puede seleccionar sólo un subconjunto de las columnas, determinando el parámetro select, que debe ser una lista de nombres de las columnas a considerar.\n",
      "\n",
      "FILE\n",
      "    c:\\users\\manuelklug\\documents\\manu\\github\\learning\\python unsam\\clase 5\\fileparse.py\n",
      "\n",
      "\n"
     ]
    }
   ],
   "source": [
    "help(fileparse)"
   ]
  },
  {
   "cell_type": "code",
   "execution_count": 3,
   "metadata": {},
   "outputs": [
    {
     "data": {
      "text/plain": [
       "[{'nombre': 'Lima', 'cajones': 100, 'precio': 32.2},\n",
       " {'nombre': 'Naranja', 'cajones': 50, 'precio': 91.1},\n",
       " {'nombre': 'Caqui', 'cajones': 150, 'precio': 103.44},\n",
       " {'nombre': 'Mandarina', 'cajones': 200, 'precio': 51.23},\n",
       " {'nombre': 'Durazno', 'cajones': 95, 'precio': 40.37},\n",
       " {'nombre': 'Mandarina', 'cajones': 50, 'precio': 65.1},\n",
       " {'nombre': 'Naranja', 'cajones': 100, 'precio': 70.44}]"
      ]
     },
     "execution_count": 3,
     "metadata": {},
     "output_type": "execute_result"
    }
   ],
   "source": [
    "camion = fileparse.parse_csv('../Data/camion.csv',select=['nombre','cajones','precio'], types=[str,int,float], has_headers=True)\n",
    "camion"
   ]
  },
  {
   "cell_type": "code",
   "execution_count": 4,
   "metadata": {},
   "outputs": [],
   "source": [
    "from fileparse import parse_csv"
   ]
  },
  {
   "cell_type": "code",
   "execution_count": 5,
   "metadata": {},
   "outputs": [
    {
     "data": {
      "text/plain": [
       "[{'nombre': 'Lima', 'cajones': 100, 'precio': 32.2},\n",
       " {'nombre': 'Naranja', 'cajones': 50, 'precio': 91.1},\n",
       " {'nombre': 'Caqui', 'cajones': 150, 'precio': 103.44},\n",
       " {'nombre': 'Mandarina', 'cajones': 200, 'precio': 51.23},\n",
       " {'nombre': 'Durazno', 'cajones': 95, 'precio': 40.37},\n",
       " {'nombre': 'Mandarina', 'cajones': 50, 'precio': 65.1},\n",
       " {'nombre': 'Naranja', 'cajones': 100, 'precio': 70.44}]"
      ]
     },
     "execution_count": 5,
     "metadata": {},
     "output_type": "execute_result"
    }
   ],
   "source": [
    "camion = parse_csv('../Data/camion.csv', select=['nombre','cajones','precio'], types=[str,int,float], has_headers=True)\n",
    "camion"
   ]
  },
  {
   "cell_type": "code",
   "execution_count": 6,
   "metadata": {},
   "outputs": [],
   "source": [
    "precios = parse_csv('../Data/precios.csv', types=[str, float], has_headers=False)"
   ]
  },
  {
   "cell_type": "code",
   "execution_count": 7,
   "metadata": {},
   "outputs": [
    {
     "data": {
      "text/plain": [
       "[('Lima', 40.22),\n",
       " ('Uva', 24.85),\n",
       " ('Ciruela', 44.85),\n",
       " ('Cereza', 11.27),\n",
       " ('Frutilla', 53.72),\n",
       " ('Caqui', 105.46),\n",
       " ('Tomate', 66.67),\n",
       " ('Berenjena', 28.47),\n",
       " ('Lechuga', 24.22),\n",
       " ('Durazno', 73.48),\n",
       " ('Remolacha', 20.75),\n",
       " ('Habas', 23.16),\n",
       " ('Frambuesa', 34.35),\n",
       " ('Naranja', 106.28),\n",
       " ('Bruselas', 15.72),\n",
       " ('Batata', 55.16),\n",
       " ('RÃºcula', 36.9),\n",
       " ('Radicheta', 26.11),\n",
       " ('Repollo', 49.16),\n",
       " ('Cebolla', 58.99),\n",
       " ('CebollÃ\\xadn', 57.1),\n",
       " ('Puerro', 27.58),\n",
       " ('Mandarina', 80.89),\n",
       " ('Ajo', 15.19),\n",
       " ('Rabanito', 51.94),\n",
       " ('Zapallo', 24.79),\n",
       " ('Espinaca', 52.61),\n",
       " ('Acelga', 29.26),\n",
       " ('Zanahoria', 49.74),\n",
       " ('Papa', 69.35)]"
      ]
     },
     "execution_count": 7,
     "metadata": {},
     "output_type": "execute_result"
    }
   ],
   "source": [
    "precios"
   ]
  }
 ],
 "metadata": {
  "kernelspec": {
   "display_name": "Python 3",
   "language": "python",
   "name": "python3"
  },
  "language_info": {
   "codemirror_mode": {
    "name": "ipython",
    "version": 3
   },
   "file_extension": ".py",
   "mimetype": "text/x-python",
   "name": "python",
   "nbconvert_exporter": "python",
   "pygments_lexer": "ipython3",
   "version": "3.7.4"
  }
 },
 "nbformat": 4,
 "nbformat_minor": 2
}
