{
 "cells": [
  {
   "cell_type": "code",
   "execution_count": 20,
   "metadata": {},
   "outputs": [],
   "source": [
    "def donde_insertar(lista, x):\n",
    "    pos = -1 # Inicializo respuesta, el valor no fue encontrado\n",
    "    izq = 0\n",
    "    der = len(lista) - 1\n",
    "    while izq <= der:\n",
    "        medio = (izq + der) // 2\n",
    "        if lista[medio] == x:\n",
    "            pos = medio     # elemento encontrado!\n",
    "        if lista[medio] > x:\n",
    "            der = medio - 1 # descarto mitad derecha\n",
    "        else:               # if lista[medio] < x:\n",
    "            izq = medio + 1 # descarto mitad izquierda\n",
    "    \n",
    "    if pos == -1:\n",
    "        if lista[der] < x:\n",
    "            pos = der + 1\n",
    "        else:\n",
    "            pos = der - 1\n",
    "    \n",
    "    return pos"
   ]
  },
  {
   "cell_type": "code",
   "execution_count": 25,
   "metadata": {},
   "outputs": [
    {
     "data": {
      "text/plain": [
       "2"
      ]
     },
     "execution_count": 25,
     "metadata": {},
     "output_type": "execute_result"
    }
   ],
   "source": [
    "donde_insertar([0,2,4,6], 3)"
   ]
  },
  {
   "cell_type": "code",
   "execution_count": 35,
   "metadata": {},
   "outputs": [],
   "source": [
    "def insertar(lista, x):\n",
    "    pos = -1 # Inicializo respuesta, el valor no fue encontrado\n",
    "    izq = 0\n",
    "    der = len(lista) - 1\n",
    "    while izq <= der:\n",
    "        medio = (izq + der) // 2\n",
    "        if lista[medio] == x:\n",
    "            pos = medio     # elemento encontrado!\n",
    "        if lista[medio] > x:\n",
    "            der = medio - 1 # descarto mitad derecha\n",
    "        else:               # if lista[medio] < x:\n",
    "            izq = medio + 1 # descarto mitad izquierda\n",
    "    \n",
    "    if pos == -1:\n",
    "        if lista[der] < x:\n",
    "            pos = der + 1\n",
    "        else:\n",
    "            pos = der - 1\n",
    "    \n",
    "    if x in lista:\n",
    "        return pos\n",
    "    else:\n",
    "        lista.insert(pos, x)\n",
    "        return pos"
   ]
  },
  {
   "cell_type": "code",
   "execution_count": 38,
   "metadata": {},
   "outputs": [
    {
     "name": "stdout",
     "output_type": "stream",
     "text": [
      "[0, 2, 4, 5, 6]\n"
     ]
    },
    {
     "data": {
      "text/plain": [
       "3"
      ]
     },
     "execution_count": 38,
     "metadata": {},
     "output_type": "execute_result"
    }
   ],
   "source": [
    "insertar([0,2,4,6], 5)"
   ]
  }
 ],
 "metadata": {
  "kernelspec": {
   "display_name": "Python 3",
   "language": "python",
   "name": "python3"
  },
  "language_info": {
   "codemirror_mode": {
    "name": "ipython",
    "version": 3
   },
   "file_extension": ".py",
   "mimetype": "text/x-python",
   "name": "python",
   "nbconvert_exporter": "python",
   "pygments_lexer": "ipython3",
   "version": "3.7.4"
  }
 },
 "nbformat": 4,
 "nbformat_minor": 2
}
