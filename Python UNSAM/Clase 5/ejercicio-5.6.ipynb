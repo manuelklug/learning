{
 "cells": [
  {
   "cell_type": "code",
   "execution_count": 1,
   "metadata": {},
   "outputs": [],
   "source": [
    "# fileparse.py\n",
    "\n",
    "import csv\n",
    "\n",
    "def parse_csv(nombre_archivo, select = None, types = None, has_headers = False):\n",
    "    '''\n",
    "    Parsea un archivo CSV en una lista de registros.\n",
    "    Se puede seleccionar sólo un subconjunto de las columnas, determinando el parámetro select, que debe ser una lista de nombres de las columnas a considerar.\n",
    "    '''\n",
    "    with open(nombre_archivo) as f:\n",
    "        filas = csv.reader(f)\n",
    "\n",
    "        # Lee los encabezados del archivo\n",
    "        if has_headers:\n",
    "            encabezados = next(filas)\n",
    "\n",
    "        # Si se indicó un selector de columnas,\n",
    "        #    buscar los índices de las columnas especificadas.\n",
    "        # Y en ese caso achicar el conjunto de encabezados para diccionarios\n",
    "\n",
    "        if select:\n",
    "            indices = [encabezados.index(nombre_columna) for nombre_columna in select]\n",
    "            encabezados = select\n",
    "        else:\n",
    "            indices = []\n",
    "\n",
    "        registros = []\n",
    "        for fila in filas:\n",
    "            if not fila:    # Saltear filas vacías\n",
    "                continue\n",
    "            # Filtrar la fila si se especificaron columnas\n",
    "            if indices:\n",
    "                fila = [fila[index] for index in indices]\n",
    "                \n",
    "            if types:\n",
    "                fila = [func(val) for func, val in zip(types, fila)]\n",
    "\n",
    "            # Armar el diccionario o tupla\n",
    "            if has_headers:\n",
    "                registro = dict(zip(encabezados, fila))\n",
    "                registros.append(registro)\n",
    "            else:\n",
    "                registro = tuple([elemento for elemento in fila])\n",
    "                registros.append(registro)\n",
    "\n",
    "    return registros"
   ]
  },
  {
   "cell_type": "code",
   "execution_count": 6,
   "metadata": {},
   "outputs": [
    {
     "data": {
      "text/plain": [
       "[('Lima', 40.22),\n",
       " ('Uva', 24.85),\n",
       " ('Ciruela', 44.85),\n",
       " ('Cereza', 11.27),\n",
       " ('Frutilla', 53.72),\n",
       " ('Caqui', 105.46),\n",
       " ('Tomate', 66.67),\n",
       " ('Berenjena', 28.47),\n",
       " ('Lechuga', 24.22),\n",
       " ('Durazno', 73.48),\n",
       " ('Remolacha', 20.75),\n",
       " ('Habas', 23.16),\n",
       " ('Frambuesa', 34.35),\n",
       " ('Naranja', 106.28),\n",
       " ('Bruselas', 15.72),\n",
       " ('Batata', 55.16),\n",
       " ('RÃºcula', 36.9),\n",
       " ('Radicheta', 26.11),\n",
       " ('Repollo', 49.16),\n",
       " ('Cebolla', 58.99),\n",
       " ('CebollÃ\\xadn', 57.1),\n",
       " ('Puerro', 27.58),\n",
       " ('Mandarina', 80.89),\n",
       " ('Ajo', 15.19),\n",
       " ('Rabanito', 51.94),\n",
       " ('Zapallo', 24.79),\n",
       " ('Espinaca', 52.61),\n",
       " ('Acelga', 29.26),\n",
       " ('Zanahoria', 49.74),\n",
       " ('Papa', 69.35)]"
      ]
     },
     "execution_count": 6,
     "metadata": {},
     "output_type": "execute_result"
    }
   ],
   "source": [
    "parse_csv('../Data/precios.csv', types=[str, float], has_headers=False)"
   ]
  },
  {
   "cell_type": "code",
   "execution_count": 6,
   "metadata": {},
   "outputs": [
    {
     "data": {
      "text/plain": [
       "[{'nombre': 'Lima', 'cajones': 100, 'precio': 32.2},\n",
       " {'nombre': 'Naranja', 'cajones': 50, 'precio': 91.1},\n",
       " {'nombre': 'Caqui', 'cajones': 150, 'precio': 103.44},\n",
       " {'nombre': 'Mandarina', 'cajones': 200, 'precio': 51.23},\n",
       " {'nombre': 'Durazno', 'cajones': 95, 'precio': 40.37},\n",
       " {'nombre': 'Mandarina', 'cajones': 50, 'precio': 65.1},\n",
       " {'nombre': 'Naranja', 'cajones': 100, 'precio': 70.44}]"
      ]
     },
     "execution_count": 6,
     "metadata": {},
     "output_type": "execute_result"
    }
   ],
   "source": [
    "parse_csv('../Data/camion.csv', select=['nombre','cajones','precio'], types=[str, int, float], has_headers=True)"
   ]
  }
 ],
 "metadata": {
  "kernelspec": {
   "display_name": "Python 3",
   "language": "python",
   "name": "python3"
  },
  "language_info": {
   "codemirror_mode": {
    "name": "ipython",
    "version": 3
   },
   "file_extension": ".py",
   "mimetype": "text/x-python",
   "name": "python",
   "nbconvert_exporter": "python",
   "pygments_lexer": "ipython3",
   "version": "3.7.4"
  }
 },
 "nbformat": 4,
 "nbformat_minor": 2
}
