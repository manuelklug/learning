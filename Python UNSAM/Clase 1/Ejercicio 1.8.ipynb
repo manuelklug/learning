{
 "cells": [
  {
   "cell_type": "code",
   "execution_count": 19,
   "metadata": {},
   "outputs": [
    {
     "name": "stdout",
     "output_type": "stream",
     "text": [
      "Total pagado 929965.62\n",
      "Meses 342\n"
     ]
    }
   ],
   "source": [
    "saldo = 500000.0\n",
    "tasa = 0.05\n",
    "pago_mensual = 2684.11\n",
    "total_pagado = 0.0\n",
    "mes = 0\n",
    "\n",
    "while saldo > 0:\n",
    "    if 0 < mes <= 12:\n",
    "        saldo -= 1000\n",
    "        total_pagado += 1000\n",
    "    \n",
    "    saldo = saldo * (1+tasa/12) - pago_mensual\n",
    "    total_pagado = total_pagado + pago_mensual\n",
    "    \n",
    "    mes += 1\n",
    "\n",
    "print('Total pagado', round(total_pagado, 2))\n",
    "print('Meses',mes)"
   ]
  }
 ],
 "metadata": {
  "kernelspec": {
   "display_name": "Python 3",
   "language": "python",
   "name": "python3"
  },
  "language_info": {
   "codemirror_mode": {
    "name": "ipython",
    "version": 3
   },
   "file_extension": ".py",
   "mimetype": "text/x-python",
   "name": "python",
   "nbconvert_exporter": "python",
   "pygments_lexer": "ipython3",
   "version": "3.7.4"
  }
 },
 "nbformat": 4,
 "nbformat_minor": 2
}
