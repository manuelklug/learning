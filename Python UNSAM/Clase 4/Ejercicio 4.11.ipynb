{
 "cells": [
  {
   "cell_type": "markdown",
   "metadata": {},
   "source": [
    "# Ejercicio 4.11\n",
    "\n",
    "Con random.random() generamos valores aleatorios entre 0 y 1 con una distribución uniforme. En esa distribución, todos los valores posibles tienen la misma probabilidad de ser seleccionados. También es posible generar valores aleatorios con otras distribuciones. Una de las distribuciones más importantes es la distribución normal o Gaussiana.\n",
    "\n",
    "La distribución normal tiene dos parámetros, denominados media y desvío estándar y denotados usualmente con las letras griegas mu y sigma, respectivamente.\n",
    "\n",
    "La función random.normalvariate(mu,sigma) genera números aleatorios según esta distribución de probabilidades. Por ejemplo, usando mu = 0 y sigma = 1 podemos generar 6 valores aleatorios así:\n",
    "\n",
    "`for i in range(6):\n",
    "    print(f'{random.normalvariate(0,1):.2f}', end=', ')\n",
    "-0.60, 0.06, -1.33, -0.62, -0.81, 0.63, `\n",
    "\n",
    "La distribución normal tiene muchos usos. Uno de ellos es modelar errores experimentales, es decir la diferencia entre el valor medido de una magnitud física y el valor real de dicha magnitud.\n",
    "\n",
    "Hagamos algún ejercicio sencillo antes de terminar. Supongamos que una persona se compra un termómetro que mide la temperatura con un error aleatorio normal con media 0 y desvío estándar de 0.2 grados (error gaussiano). Si la temperatura real de la persona es de 37.5 grados, simulá usando normalvariate() (con mu y sigma adecuados) n = 99 valores medidos por el termómetro.\n",
    "\n",
    "Imprimí los valores obtenidos en las mediciones de temperatura simuladas y luego, como resumen, cuatro líneas indicando el valor máximo, el mínimo, el promedio y la mediana de estas n mediciones. Guardá tu programa en el archivo termometro.py."
   ]
  },
  {
   "cell_type": "code",
   "execution_count": 12,
   "metadata": {},
   "outputs": [
    {
     "name": "stdout",
     "output_type": "stream",
     "text": [
      "El valor máximo es: 38.12142255830914\n",
      "El valor mínimo es: 36.92017550594034\n",
      "El promedio es: 37.47556814784524\n",
      "La mediana es: 37.45198535372137\n"
     ]
    }
   ],
   "source": [
    "import random\n",
    "\n",
    "temperatura = 37.5\n",
    "mu = 0\n",
    "sigma = 0.2\n",
    "n = 99\n",
    "\n",
    "resultado = []\n",
    "for x in range(n):\n",
    "    resultado.append(temperatura + random.normalvariate(mu, sigma))\n",
    "\n",
    "print('El valor máximo es:', max(resultado))\n",
    "print('El valor mínimo es:', min(resultado))\n",
    "print('El promedio es:', sum(resultado)/n)\n",
    "print('La mediana es:', sorted(resultado)[(len(resultado)//2)])"
   ]
  }
 ],
 "metadata": {
  "kernelspec": {
   "display_name": "Python 3",
   "language": "python",
   "name": "python3"
  },
  "language_info": {
   "codemirror_mode": {
    "name": "ipython",
    "version": 3
   },
   "file_extension": ".py",
   "mimetype": "text/x-python",
   "name": "python",
   "nbconvert_exporter": "python",
   "pygments_lexer": "ipython3",
   "version": "3.7.4"
  }
 },
 "nbformat": 4,
 "nbformat_minor": 2
}
