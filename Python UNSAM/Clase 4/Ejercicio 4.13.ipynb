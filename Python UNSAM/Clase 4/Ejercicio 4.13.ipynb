{
 "cells": [
  {
   "cell_type": "markdown",
   "metadata": {},
   "source": [
    "# Ejercicio 4.13\n",
    "Ampliá el código de termometro.py que escribiste en el Ejercicio 4.11 para que guarde el vector con las temperaturas simuladas en el directorio Data de tu carpeta de ejercicios, en un archivo llamado Temperaturas.npy. Hacé que corra 999 veces en lugar de solo 99."
   ]
  },
  {
   "cell_type": "code",
   "execution_count": 4,
   "metadata": {},
   "outputs": [
    {
     "name": "stdout",
     "output_type": "stream",
     "text": [
      "El valor máximo es: 38.156844327157614\n",
      "El valor mínimo es: 36.92760687744287\n",
      "El promedio es: 37.49473768468046\n",
      "La mediana es: 37.486848309551405\n"
     ]
    }
   ],
   "source": [
    "import random\n",
    "import numpy as np\n",
    "\n",
    "temperatura = 37.5\n",
    "mu = 0\n",
    "sigma = 0.2\n",
    "n = 999\n",
    "\n",
    "resultado = []\n",
    "for x in range(n):\n",
    "    resultado.append(temperatura + random.normalvariate(mu, sigma))\n",
    "\n",
    "print('El valor máximo es:', max(resultado))\n",
    "print('El valor mínimo es:', min(resultado))\n",
    "print('El promedio es:', sum(resultado)/n)\n",
    "print('La mediana es:', sorted(resultado)[(len(resultado)//2)])\n",
    "\n",
    "array = np.array(resultado)\n",
    "np.save('../Data/Temperaturas.npy', array)"
   ]
  }
 ],
 "metadata": {
  "kernelspec": {
   "display_name": "Python 3",
   "language": "python",
   "name": "python3"
  },
  "language_info": {
   "codemirror_mode": {
    "name": "ipython",
    "version": 3
   },
   "file_extension": ".py",
   "mimetype": "text/x-python",
   "name": "python",
   "nbconvert_exporter": "python",
   "pygments_lexer": "ipython3",
   "version": "3.7.4"
  }
 },
 "nbformat": 4,
 "nbformat_minor": 2
}
