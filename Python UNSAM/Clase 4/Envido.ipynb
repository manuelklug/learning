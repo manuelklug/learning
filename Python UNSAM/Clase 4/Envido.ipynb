{
 "cells": [
  {
   "cell_type": "code",
   "execution_count": 103,
   "metadata": {},
   "outputs": [],
   "source": [
    "import random\n",
    "\n",
    "\n",
    "def envido():\n",
    "    valores = [1, 2, 3, 4, 5, 6, 7, 10, 11, 12]\n",
    "    palos = ['oro', 'copa', 'espada', 'basto']\n",
    "    naipes = [(valor,palo) for valor in valores for palo in palos]\n",
    "    \n",
    "    mano = random.sample(naipes, k=3)\n",
    "    \n",
    "    valores_cartas = [mano[i][0] for i in range(len(mano))] # Primer valor de cada tupla\n",
    "    \n",
    "    palos_cartas = [mano[i][1] for i in range(len(mano))] # Segundo valor de cada tupla\n",
    "    \n",
    "    if len(set(palos_cartas)) == 3: # 3 cartas de distinto palo\n",
    "        return max(valores_cartas) + 20\n",
    "        \n",
    "    elif len(set(palos_cartas)) == 2: # Hay 2 cartas del mismo palo\n",
    "        max_rep = max(palos_cartas, key=palos_cartas.count) # Palo que se repite\n",
    "        # Suma el valor de la carta si esa carta es del palo de max_rep y si no es 10, 11 y 12 (porque equivale a puntaje 0)\n",
    "        return sum([mano[i][0] for i in range(len(mano)) if (max_rep in mano[i][1]) and (mano[i][0] not in [10, 11, 12])]) + 20\n",
    "    \n",
    "    elif len(set(palos_cartas)) == 1:\n",
    "        return 0"
   ]
  },
  {
   "cell_type": "code",
   "execution_count": 130,
   "metadata": {},
   "outputs": [],
   "source": [
    "def maximo_puntaje(puntaje):\n",
    "    if puntaje in [31, 32, 33]:\n",
    "        return 1\n",
    "    else:\n",
    "        return 0"
   ]
  },
  {
   "cell_type": "code",
   "execution_count": 134,
   "metadata": {},
   "outputs": [
    {
     "name": "stdout",
     "output_type": "stream",
     "text": [
      "Tiré 100000 veces, de las cuales 24644 saqué puntaje máximo (31, 32 o 33.\n",
      "La probabilidad de sacar mayor puntaje es 0.246440.\n"
     ]
    }
   ],
   "source": [
    "N = 100000\n",
    "G = sum([maximo_puntaje(envido()) for i in range(N)])\n",
    "prob = G/N\n",
    "print(f'Tiré {N} veces, de las cuales {G} saqué puntaje máximo (31, 32 o 33.')\n",
    "print(f'La probabilidad de sacar mayor puntaje es {prob:.6f}.')"
   ]
  }
 ],
 "metadata": {
  "kernelspec": {
   "display_name": "Python 3",
   "language": "python",
   "name": "python3"
  },
  "language_info": {
   "codemirror_mode": {
    "name": "ipython",
    "version": 3
   },
   "file_extension": ".py",
   "mimetype": "text/x-python",
   "name": "python",
   "nbconvert_exporter": "python",
   "pygments_lexer": "ipython3",
   "version": "3.7.4"
  }
 },
 "nbformat": 4,
 "nbformat_minor": 2
}
